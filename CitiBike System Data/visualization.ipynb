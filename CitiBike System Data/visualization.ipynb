{
 "cells": [
  {
   "cell_type": "code",
   "execution_count": 27,
   "metadata": {},
   "outputs": [],
   "source": [
    "import pandas as pd\n",
    "import warnings\n",
    "\n",
    "warnings.filterwarnings(\"ignore\")"
   ]
  },
  {
   "cell_type": "code",
   "execution_count": 28,
   "metadata": {},
   "outputs": [
    {
     "data": {
      "text/plain": [
       "(577703, 15)"
      ]
     },
     "execution_count": 28,
     "metadata": {},
     "output_type": "execute_result"
    }
   ],
   "source": [
    "df = pd.read_csv(\"dataset/201306-citibike-tripdata.csv\")\n",
    "df.shape"
   ]
  },
  {
   "cell_type": "code",
   "execution_count": 29,
   "metadata": {},
   "outputs": [
    {
     "data": {
      "text/html": [
       "<div>\n",
       "<style scoped>\n",
       "    .dataframe tbody tr th:only-of-type {\n",
       "        vertical-align: middle;\n",
       "    }\n",
       "\n",
       "    .dataframe tbody tr th {\n",
       "        vertical-align: top;\n",
       "    }\n",
       "\n",
       "    .dataframe thead th {\n",
       "        text-align: right;\n",
       "    }\n",
       "</style>\n",
       "<table border=\"1\" class=\"dataframe\">\n",
       "  <thead>\n",
       "    <tr style=\"text-align: right;\">\n",
       "      <th></th>\n",
       "      <th>tripduration</th>\n",
       "      <th>starttime</th>\n",
       "      <th>stoptime</th>\n",
       "      <th>start station id</th>\n",
       "      <th>start station name</th>\n",
       "      <th>start station latitude</th>\n",
       "      <th>start station longitude</th>\n",
       "      <th>end station id</th>\n",
       "      <th>end station name</th>\n",
       "      <th>end station latitude</th>\n",
       "      <th>end station longitude</th>\n",
       "      <th>bikeid</th>\n",
       "      <th>usertype</th>\n",
       "      <th>birth year</th>\n",
       "      <th>gender</th>\n",
       "    </tr>\n",
       "  </thead>\n",
       "  <tbody>\n",
       "    <tr>\n",
       "      <th>0</th>\n",
       "      <td>695</td>\n",
       "      <td>2013-06-01 00:00:01</td>\n",
       "      <td>2013-06-01 00:11:36</td>\n",
       "      <td>444</td>\n",
       "      <td>Broadway &amp; W 24 St</td>\n",
       "      <td>40.742354</td>\n",
       "      <td>-73.989151</td>\n",
       "      <td>434.0</td>\n",
       "      <td>9 Ave &amp; W 18 St</td>\n",
       "      <td>40.743174</td>\n",
       "      <td>-74.003664</td>\n",
       "      <td>19678</td>\n",
       "      <td>Subscriber</td>\n",
       "      <td>1983.0</td>\n",
       "      <td>1</td>\n",
       "    </tr>\n",
       "    <tr>\n",
       "      <th>1</th>\n",
       "      <td>693</td>\n",
       "      <td>2013-06-01 00:00:08</td>\n",
       "      <td>2013-06-01 00:11:41</td>\n",
       "      <td>444</td>\n",
       "      <td>Broadway &amp; W 24 St</td>\n",
       "      <td>40.742354</td>\n",
       "      <td>-73.989151</td>\n",
       "      <td>434.0</td>\n",
       "      <td>9 Ave &amp; W 18 St</td>\n",
       "      <td>40.743174</td>\n",
       "      <td>-74.003664</td>\n",
       "      <td>16649</td>\n",
       "      <td>Subscriber</td>\n",
       "      <td>1984.0</td>\n",
       "      <td>1</td>\n",
       "    </tr>\n",
       "    <tr>\n",
       "      <th>2</th>\n",
       "      <td>2059</td>\n",
       "      <td>2013-06-01 00:00:44</td>\n",
       "      <td>2013-06-01 00:35:03</td>\n",
       "      <td>406</td>\n",
       "      <td>Hicks St &amp; Montague St</td>\n",
       "      <td>40.695128</td>\n",
       "      <td>-73.995951</td>\n",
       "      <td>406.0</td>\n",
       "      <td>Hicks St &amp; Montague St</td>\n",
       "      <td>40.695128</td>\n",
       "      <td>-73.995951</td>\n",
       "      <td>19599</td>\n",
       "      <td>Customer</td>\n",
       "      <td>NaN</td>\n",
       "      <td>0</td>\n",
       "    </tr>\n",
       "    <tr>\n",
       "      <th>3</th>\n",
       "      <td>123</td>\n",
       "      <td>2013-06-01 00:01:04</td>\n",
       "      <td>2013-06-01 00:03:07</td>\n",
       "      <td>475</td>\n",
       "      <td>E 15 St &amp; Irving Pl</td>\n",
       "      <td>40.735243</td>\n",
       "      <td>-73.987586</td>\n",
       "      <td>262.0</td>\n",
       "      <td>Washington Park</td>\n",
       "      <td>40.691782</td>\n",
       "      <td>-73.973730</td>\n",
       "      <td>16352</td>\n",
       "      <td>Subscriber</td>\n",
       "      <td>1960.0</td>\n",
       "      <td>1</td>\n",
       "    </tr>\n",
       "    <tr>\n",
       "      <th>4</th>\n",
       "      <td>1521</td>\n",
       "      <td>2013-06-01 00:01:22</td>\n",
       "      <td>2013-06-01 00:26:43</td>\n",
       "      <td>2008</td>\n",
       "      <td>Little West St &amp; 1 Pl</td>\n",
       "      <td>40.705693</td>\n",
       "      <td>-74.016777</td>\n",
       "      <td>310.0</td>\n",
       "      <td>State St &amp; Smith St</td>\n",
       "      <td>40.689269</td>\n",
       "      <td>-73.989129</td>\n",
       "      <td>15567</td>\n",
       "      <td>Subscriber</td>\n",
       "      <td>1983.0</td>\n",
       "      <td>1</td>\n",
       "    </tr>\n",
       "  </tbody>\n",
       "</table>\n",
       "</div>"
      ],
      "text/plain": [
       "   tripduration            starttime             stoptime  start station id  \\\n",
       "0           695  2013-06-01 00:00:01  2013-06-01 00:11:36               444   \n",
       "1           693  2013-06-01 00:00:08  2013-06-01 00:11:41               444   \n",
       "2          2059  2013-06-01 00:00:44  2013-06-01 00:35:03               406   \n",
       "3           123  2013-06-01 00:01:04  2013-06-01 00:03:07               475   \n",
       "4          1521  2013-06-01 00:01:22  2013-06-01 00:26:43              2008   \n",
       "\n",
       "       start station name  start station latitude  start station longitude  \\\n",
       "0      Broadway & W 24 St               40.742354               -73.989151   \n",
       "1      Broadway & W 24 St               40.742354               -73.989151   \n",
       "2  Hicks St & Montague St               40.695128               -73.995951   \n",
       "3     E 15 St & Irving Pl               40.735243               -73.987586   \n",
       "4   Little West St & 1 Pl               40.705693               -74.016777   \n",
       "\n",
       "   end station id        end station name  end station latitude  \\\n",
       "0           434.0         9 Ave & W 18 St             40.743174   \n",
       "1           434.0         9 Ave & W 18 St             40.743174   \n",
       "2           406.0  Hicks St & Montague St             40.695128   \n",
       "3           262.0         Washington Park             40.691782   \n",
       "4           310.0     State St & Smith St             40.689269   \n",
       "\n",
       "   end station longitude  bikeid    usertype  birth year  gender  \n",
       "0             -74.003664   19678  Subscriber      1983.0       1  \n",
       "1             -74.003664   16649  Subscriber      1984.0       1  \n",
       "2             -73.995951   19599    Customer         NaN       0  \n",
       "3             -73.973730   16352  Subscriber      1960.0       1  \n",
       "4             -73.989129   15567  Subscriber      1983.0       1  "
      ]
     },
     "execution_count": 29,
     "metadata": {},
     "output_type": "execute_result"
    }
   ],
   "source": [
    "df.head()"
   ]
  },
  {
   "cell_type": "code",
   "execution_count": 30,
   "metadata": {},
   "outputs": [
    {
     "data": {
      "text/html": [
       "<div>\n",
       "<style scoped>\n",
       "    .dataframe tbody tr th:only-of-type {\n",
       "        vertical-align: middle;\n",
       "    }\n",
       "\n",
       "    .dataframe tbody tr th {\n",
       "        vertical-align: top;\n",
       "    }\n",
       "\n",
       "    .dataframe thead th {\n",
       "        text-align: right;\n",
       "    }\n",
       "</style>\n",
       "<table border=\"1\" class=\"dataframe\">\n",
       "  <thead>\n",
       "    <tr style=\"text-align: right;\">\n",
       "      <th></th>\n",
       "      <th>tripduration</th>\n",
       "      <th>start station id</th>\n",
       "      <th>start station latitude</th>\n",
       "      <th>start station longitude</th>\n",
       "      <th>end station id</th>\n",
       "      <th>end station latitude</th>\n",
       "      <th>end station longitude</th>\n",
       "      <th>bikeid</th>\n",
       "      <th>birth year</th>\n",
       "      <th>gender</th>\n",
       "    </tr>\n",
       "  </thead>\n",
       "  <tbody>\n",
       "    <tr>\n",
       "      <th>count</th>\n",
       "      <td>5.777030e+05</td>\n",
       "      <td>577703.000000</td>\n",
       "      <td>577703.000000</td>\n",
       "      <td>577703.000000</td>\n",
       "      <td>559644.000000</td>\n",
       "      <td>559644.000000</td>\n",
       "      <td>559644.000000</td>\n",
       "      <td>577703.000000</td>\n",
       "      <td>337382.000000</td>\n",
       "      <td>577703.000000</td>\n",
       "    </tr>\n",
       "    <tr>\n",
       "      <th>mean</th>\n",
       "      <td>1.372570e+03</td>\n",
       "      <td>439.228836</td>\n",
       "      <td>40.732436</td>\n",
       "      <td>-73.991251</td>\n",
       "      <td>441.910624</td>\n",
       "      <td>40.732146</td>\n",
       "      <td>-73.991244</td>\n",
       "      <td>17617.434516</td>\n",
       "      <td>1974.644945</td>\n",
       "      <td>0.710431</td>\n",
       "    </tr>\n",
       "    <tr>\n",
       "      <th>std</th>\n",
       "      <td>9.028063e+03</td>\n",
       "      <td>337.240318</td>\n",
       "      <td>0.021423</td>\n",
       "      <td>0.013002</td>\n",
       "      <td>345.448311</td>\n",
       "      <td>0.021507</td>\n",
       "      <td>0.013105</td>\n",
       "      <td>1677.518719</td>\n",
       "      <td>10.780255</td>\n",
       "      <td>0.678268</td>\n",
       "    </tr>\n",
       "    <tr>\n",
       "      <th>min</th>\n",
       "      <td>6.100000e+01</td>\n",
       "      <td>72.000000</td>\n",
       "      <td>40.646607</td>\n",
       "      <td>-74.017134</td>\n",
       "      <td>72.000000</td>\n",
       "      <td>40.646607</td>\n",
       "      <td>-74.017134</td>\n",
       "      <td>14529.000000</td>\n",
       "      <td>1899.000000</td>\n",
       "      <td>0.000000</td>\n",
       "    </tr>\n",
       "    <tr>\n",
       "      <th>25%</th>\n",
       "      <td>5.140000e+02</td>\n",
       "      <td>309.000000</td>\n",
       "      <td>40.717400</td>\n",
       "      <td>-74.001768</td>\n",
       "      <td>309.000000</td>\n",
       "      <td>40.716887</td>\n",
       "      <td>-74.001971</td>\n",
       "      <td>16161.000000</td>\n",
       "      <td>1968.000000</td>\n",
       "      <td>0.000000</td>\n",
       "    </tr>\n",
       "    <tr>\n",
       "      <th>50%</th>\n",
       "      <td>8.740000e+02</td>\n",
       "      <td>404.000000</td>\n",
       "      <td>40.734546</td>\n",
       "      <td>-73.990741</td>\n",
       "      <td>403.000000</td>\n",
       "      <td>40.734232</td>\n",
       "      <td>-73.990741</td>\n",
       "      <td>17638.000000</td>\n",
       "      <td>1977.000000</td>\n",
       "      <td>1.000000</td>\n",
       "    </tr>\n",
       "    <tr>\n",
       "      <th>75%</th>\n",
       "      <td>1.398000e+03</td>\n",
       "      <td>482.000000</td>\n",
       "      <td>40.749013</td>\n",
       "      <td>-73.981948</td>\n",
       "      <td>482.000000</td>\n",
       "      <td>40.748549</td>\n",
       "      <td>-73.981923</td>\n",
       "      <td>19066.000000</td>\n",
       "      <td>1983.000000</td>\n",
       "      <td>1.000000</td>\n",
       "    </tr>\n",
       "    <tr>\n",
       "      <th>max</th>\n",
       "      <td>3.876479e+06</td>\n",
       "      <td>3020.000000</td>\n",
       "      <td>40.771522</td>\n",
       "      <td>-73.950048</td>\n",
       "      <td>3020.000000</td>\n",
       "      <td>40.771522</td>\n",
       "      <td>-73.950048</td>\n",
       "      <td>20625.000000</td>\n",
       "      <td>1997.000000</td>\n",
       "      <td>2.000000</td>\n",
       "    </tr>\n",
       "  </tbody>\n",
       "</table>\n",
       "</div>"
      ],
      "text/plain": [
       "       tripduration  start station id  start station latitude  \\\n",
       "count  5.777030e+05     577703.000000           577703.000000   \n",
       "mean   1.372570e+03        439.228836               40.732436   \n",
       "std    9.028063e+03        337.240318                0.021423   \n",
       "min    6.100000e+01         72.000000               40.646607   \n",
       "25%    5.140000e+02        309.000000               40.717400   \n",
       "50%    8.740000e+02        404.000000               40.734546   \n",
       "75%    1.398000e+03        482.000000               40.749013   \n",
       "max    3.876479e+06       3020.000000               40.771522   \n",
       "\n",
       "       start station longitude  end station id  end station latitude  \\\n",
       "count            577703.000000   559644.000000         559644.000000   \n",
       "mean                -73.991251      441.910624             40.732146   \n",
       "std                   0.013002      345.448311              0.021507   \n",
       "min                 -74.017134       72.000000             40.646607   \n",
       "25%                 -74.001768      309.000000             40.716887   \n",
       "50%                 -73.990741      403.000000             40.734232   \n",
       "75%                 -73.981948      482.000000             40.748549   \n",
       "max                 -73.950048     3020.000000             40.771522   \n",
       "\n",
       "       end station longitude         bikeid     birth year         gender  \n",
       "count          559644.000000  577703.000000  337382.000000  577703.000000  \n",
       "mean              -73.991244   17617.434516    1974.644945       0.710431  \n",
       "std                 0.013105    1677.518719      10.780255       0.678268  \n",
       "min               -74.017134   14529.000000    1899.000000       0.000000  \n",
       "25%               -74.001971   16161.000000    1968.000000       0.000000  \n",
       "50%               -73.990741   17638.000000    1977.000000       1.000000  \n",
       "75%               -73.981923   19066.000000    1983.000000       1.000000  \n",
       "max               -73.950048   20625.000000    1997.000000       2.000000  "
      ]
     },
     "execution_count": 30,
     "metadata": {},
     "output_type": "execute_result"
    }
   ],
   "source": [
    "df.describe()"
   ]
  },
  {
   "cell_type": "markdown",
   "metadata": {},
   "source": [
    "##### Checking for trips less than a specific time(<90 seconds)"
   ]
  },
  {
   "cell_type": "code",
   "execution_count": 31,
   "metadata": {},
   "outputs": [
    {
     "name": "stdout",
     "output_type": "stream",
     "text": [
      "Number of broken rides: 2040\n"
     ]
    }
   ],
   "source": [
    "# Checking for trip duration\n",
    "broken_rides_df = df[df['tripduration'] <= 90]\n",
    "\n",
    "# Checking for same end station\n",
    "broken_rides_df = broken_rides_df[broken_rides_df['start station name'] == broken_rides_df['end station name']]\n",
    "\n",
    "broken_rides_count = broken_rides_df.shape[0]\n",
    "print(\"Number of broken rides:\", broken_rides_count)"
   ]
  },
  {
   "cell_type": "code",
   "execution_count": 32,
   "metadata": {},
   "outputs": [
    {
     "name": "stdout",
     "output_type": "stream",
     "text": [
      "Original DataFrame size: 577703\n",
      "Filtered DataFrame size: 575663\n"
     ]
    }
   ],
   "source": [
    "min_duration = 90  # Minimum acceptable trip duration (seconds)\n",
    "\n",
    "broken_rides_mask = (df['tripduration'] <= min_duration) & (df['start station name'] == df['end station name'])\n",
    "filtered_df = df[~broken_rides_mask] \n",
    "\n",
    "print(\"Original DataFrame size:\", df.shape[0])\n",
    "print(\"Filtered DataFrame size:\", filtered_df.shape[0])\n"
   ]
  },
  {
   "cell_type": "code",
   "execution_count": 33,
   "metadata": {},
   "outputs": [
    {
     "data": {
      "text/plain": [
       "tripduration                    0\n",
       "starttime                       0\n",
       "stoptime                        0\n",
       "start station id                0\n",
       "start station name              0\n",
       "start station latitude          0\n",
       "start station longitude         0\n",
       "end station id              18059\n",
       "end station name            18059\n",
       "end station latitude        18059\n",
       "end station longitude       18059\n",
       "bikeid                          0\n",
       "usertype                        0\n",
       "birth year                 240321\n",
       "gender                          0\n",
       "dtype: int64"
      ]
     },
     "execution_count": 33,
     "metadata": {},
     "output_type": "execute_result"
    }
   ],
   "source": [
    "df.isnull().sum()"
   ]
  },
  {
   "cell_type": "markdown",
   "metadata": {},
   "source": [
    "##### Here we see null entries on end station in some of the entries. "
   ]
  },
  {
   "cell_type": "code",
   "execution_count": 34,
   "metadata": {},
   "outputs": [
    {
     "data": {
      "text/plain": [
       "(325466, 15)"
      ]
     },
     "execution_count": 34,
     "metadata": {},
     "output_type": "execute_result"
    }
   ],
   "source": [
    "completed_rides_df = filtered_df.dropna()\n",
    "\n",
    "completed_rides_df.shape"
   ]
  },
  {
   "cell_type": "markdown",
   "metadata": {},
   "source": [
    "##### Now, completed_rides_df contains only the entries that are not present in broken_rides_df"
   ]
  },
  {
   "cell_type": "markdown",
   "metadata": {},
   "source": [
    "## 1. Which 2 stations are most used by riders."
   ]
  },
  {
   "cell_type": "code",
   "execution_count": 35,
   "metadata": {},
   "outputs": [
    {
     "name": "stdout",
     "output_type": "stream",
     "text": [
      "Top 2 most used stations:\n",
      "- W 20 St & 11 Ave: 5983 initiated rides\n",
      "- E 17 St & Broadway: 5621 initiated rides\n"
     ]
    }
   ],
   "source": [
    "# Group by start station and sort by count in descending order\n",
    "station_counts = df.groupby('start station name').size().sort_values(ascending=False)\n",
    "\n",
    "# Getting the top 2 stations\n",
    "top_2_stations = station_counts.head(2)\n",
    "\n",
    "# Print the station names and their respective counts\n",
    "print(\"Top 2 most used stations:\")\n",
    "for station, count in top_2_stations.items():\n",
    "    print(f\"- {station}: {count} initiated rides\")"
   ]
  },
  {
   "cell_type": "code",
   "execution_count": 36,
   "metadata": {},
   "outputs": [
    {
     "name": "stdout",
     "output_type": "stream",
     "text": [
      "Top 2 most used stations:\n",
      "- E 17 St & Broadway: 3351 for completed rides\n",
      "- Broadway & E 14 St: 3108 for completed rides\n"
     ]
    }
   ],
   "source": [
    "# Group by start station for completed rides only and sort by count in descending order\n",
    "station_counts = completed_rides_df.groupby('start station name').size().sort_values(ascending=False)\n",
    "\n",
    "# Get the top 2 stations\n",
    "top_2_stations = station_counts.head(2)\n",
    "\n",
    "# Print the station names and their respective counts\n",
    "print(\"Top 2 most used stations:\")\n",
    "for station, count in top_2_stations.items():\n",
    "    print(f\"- {station}: {count} for completed rides\")"
   ]
  },
  {
   "cell_type": "markdown",
   "metadata": {},
   "source": [
    "##### W 20 St & 11 Ave have the most bikes stolen"
   ]
  },
  {
   "cell_type": "markdown",
   "metadata": {},
   "source": [
    "## 2. Which month is the busiest time for Citi bike?\n"
   ]
  },
  {
   "cell_type": "code",
   "execution_count": 37,
   "metadata": {},
   "outputs": [
    {
     "name": "stdout",
     "output_type": "stream",
     "text": [
      "Busiest month: June\n",
      "Total ride duration in June: 220218.44 hours\n"
     ]
    }
   ],
   "source": [
    "# Ensure 'starttime' is datetime-formatted\n",
    "if not pd.api.types.is_datetime64_dtype(filtered_df['starttime']):\n",
    "    filtered_df['starttime'] = pd.to_datetime(filtered_df['starttime'], format='%Y-%m-%d %H:%M:%S')\n",
    "\n",
    "# Extract and store month name\n",
    "filtered_df['month'] = filtered_df['starttime'].dt.month_name()\n",
    "\n",
    "# 3. Group data and calculate total durations\n",
    "monthly_durations = filtered_df.groupby('month')['tripduration'].sum()\n",
    "\n",
    "# 4. Identify and print busiest month with comprehensive information\n",
    "if not monthly_durations.empty:\n",
    "    busiest_month = monthly_durations.idxmax()\n",
    "    busiest_month_duration = monthly_durations.max() / 3600\n",
    "\n",
    "    print(f\"Busiest month: {busiest_month}\")\n",
    "    print(f\"Total ride duration in {busiest_month}: {busiest_month_duration:.2f} hours\")\n",
    "else:\n",
    "    print(\"No rides found in the DataFrame.\")\n"
   ]
  },
  {
   "cell_type": "markdown",
   "metadata": {},
   "source": [
    "\n",
    "### 3. Whats the average time of ride?\n"
   ]
  },
  {
   "cell_type": "code",
   "execution_count": 38,
   "metadata": {},
   "outputs": [
    {
     "name": "stdout",
     "output_type": "stream",
     "text": [
      "Average ride time: 18.38 minutes\n"
     ]
    }
   ],
   "source": [
    "average_duration = completed_rides_df['tripduration'].mean()\n",
    "\n",
    "# Convert seconds to minutes\n",
    "average_minutes = average_duration / 60\n",
    "\n",
    "print(f\"Average ride time: {average_minutes:.2f} minutes\")"
   ]
  },
  {
   "cell_type": "markdown",
   "metadata": {},
   "source": [
    "### 4. How many rides had same origin and destination?"
   ]
  },
  {
   "cell_type": "code",
   "execution_count": 39,
   "metadata": {},
   "outputs": [
    {
     "name": "stdout",
     "output_type": "stream",
     "text": [
      "Number of rides with same origin and destination: 21584\n"
     ]
    }
   ],
   "source": [
    "same_origin_destination = filtered_df[filtered_df['start station name'] == filtered_df['end station name']]\n",
    "count_same_origin_destination = same_origin_destination.shape[0]\n",
    "\n",
    "print(f\"Number of rides with same origin and destination: {count_same_origin_destination}\")\n"
   ]
  }
 ],
 "metadata": {
  "kernelspec": {
   "display_name": "Python 3",
   "language": "python",
   "name": "python3"
  },
  "language_info": {
   "codemirror_mode": {
    "name": "ipython",
    "version": 3
   },
   "file_extension": ".py",
   "mimetype": "text/x-python",
   "name": "python",
   "nbconvert_exporter": "python",
   "pygments_lexer": "ipython3",
   "version": "3.9.15"
  }
 },
 "nbformat": 4,
 "nbformat_minor": 2
}
